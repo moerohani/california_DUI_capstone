{
 "cells": [
  {
   "cell_type": "markdown",
   "source": [
    "# Data Wrangling<a id='2_Data_Wrangling'></a>"
   ],
   "metadata": {}
  },
  {
   "cell_type": "markdown",
   "source": [
    "## 2.2 Introduction<a id='2.2_Introduction'></a>"
   ],
   "metadata": {}
  },
  {
   "cell_type": "markdown",
   "source": [
    "Each year so many people in the state of Califonia lose their lives due to drug or alcohol related collisions. 1,066 people lost their lives in 2019, a slight decrease of 4.5% compared to 2018.\n",
    "* Also, in 2019, per https://www.nhtsa.gov/,  50% of all drivers killed in motor vehicle crashes, who were tested, tested positive for legal and/ or illegal drugs, an increase of 8% from 2018.\n",
    "\n",
    "This notebook focuses on collecting all data sources related to California car collisions, organizing it, and making sure it's well defined. This introduction will evolve as I learn more about the primary data source, put together by Alex Gude hosted on https://www.kaggle.com/alexgude/california-traffic-collision-data-from-switrs. "
   ],
   "metadata": {}
  },
  {
   "cell_type": "markdown",
   "source": [
    "### 2.2.1 Problem Statement<a id='2.2.1_Recap_Of_Data_Science_Problem'></a>"
   ],
   "metadata": {}
  },
  {
   "cell_type": "markdown",
   "source": [
    "How to develop a data-driven user-friendly decision model system with the ultimate goal of reducing alcohol and drug impaired fatal collisions in the great state of Californai. "
   ],
   "metadata": {}
  },
  {
   "cell_type": "markdown",
   "source": [
    "## 2.3 Imports<a id='2.3_Imports'></a>"
   ],
   "metadata": {}
  },
  {
   "cell_type": "markdown",
   "source": [
    "### Potential data to collect"
   ],
   "metadata": {}
  },
  {
   "cell_type": "markdown",
   "source": [
    "* Death per mile\n",
    "* arrest dataset to gauge the law enforcement preventive measures\n",
    "* census Data\n",
    "* unemployment rate data\n",
    "* real estate prices"
   ],
   "metadata": {}
  },
  {
   "cell_type": "code",
   "execution_count": 87,
   "source": [
    "import pandas as pd\n",
    "import os"
   ],
   "outputs": [],
   "metadata": {}
  },
  {
   "cell_type": "code",
   "execution_count": 88,
   "source": [
    "# import df_shrink from fastai to shrink this large dataset\n",
    "from fastai.tabular.core import df_shrink"
   ],
   "outputs": [],
   "metadata": {}
  },
  {
   "cell_type": "code",
   "execution_count": 59,
   "source": [
    "import seaborn as sns\n",
    "import matplotlib.pyplot as plt\n",
    "from sqlalchemy import create_engine"
   ],
   "outputs": [],
   "metadata": {}
  },
  {
   "cell_type": "code",
   "execution_count": 60,
   "source": [
    "from pandas_profiling import ProfileReport"
   ],
   "outputs": [],
   "metadata": {}
  },
  {
   "cell_type": "code",
   "execution_count": 61,
   "source": [
    "# Importing the data system file:///Users/Moe/Desktop/Data%20Science%20Boot-Camp%20Material/OnlineArrestDispoData1980-2020.csv"
   ],
   "outputs": [],
   "metadata": {}
  },
  {
   "cell_type": "markdown",
   "source": [
    "## 2.4 Objective<a id='2.4_Objective'></a>"
   ],
   "metadata": {}
  },
  {
   "cell_type": "markdown",
   "source": [
    "Develop a predictive model that provide a data-driven decision tool to; \n",
    "* assist California State police departments and Highway Patrols to allocate limited resources in the most optimized manner to prevent potential fatal Alcohol-Impaired or Drug-Impaired coillisions\n",
    "* aid insurance companies to classify a potential policy holder's risk level in being involved in fatal or sever Alcohol-Impaired or Drug-Impaired coillisions\n",
    "* an interactive map where the user can get a color coded map based on the level of DUI related collision for his/her route from origin to destination, per the time of the day, weather, age, car, and other factors"
   ],
   "metadata": {}
  },
  {
   "cell_type": "markdown",
   "source": [
    "## 2.5 Load Collision Data<a id='2.5_Load_Collision_Data'></a>"
   ],
   "metadata": {}
  },
  {
   "cell_type": "markdown",
   "source": [
    "### Create engine and make the connection"
   ],
   "metadata": {}
  },
  {
   "cell_type": "markdown",
   "source": [
    "#### Explore Collision Table "
   ],
   "metadata": {}
  },
  {
   "cell_type": "code",
   "execution_count": 118,
   "source": [
    "# fire up an engine to connect to switrs sqlite db\n",
    "engine = create_engine('sqlite:///switrs.sqlite')"
   ],
   "outputs": [],
   "metadata": {}
  },
  {
   "cell_type": "code",
   "execution_count": 119,
   "source": [
    "# defining a function for making queries\n",
    "def query( Sql_query):\n",
    "  with engine.connect() as con:\n",
    "      rs = con.execute(Sql_query)\n",
    "      df = pd.DataFrame(rs.fetchall())\n",
    "      df.columns = rs.keys()\n",
    "  return df;   "
   ],
   "outputs": [],
   "metadata": {}
  },
  {
   "cell_type": "code",
   "execution_count": 120,
   "source": [
    "# show all columns in collision tabel\n",
    "query(\"SELECT * FROM collisions LIMIT 5\").columns"
   ],
   "outputs": [
    {
     "output_type": "execute_result",
     "data": {
      "text/plain": [
       "Index(['case_id', 'jurisdiction', 'officer_id', 'reporting_district',\n",
       "       'chp_shift', 'population', 'county_city_location', 'special_condition',\n",
       "       'beat_type', 'chp_beat_type', 'city_division_lapd', 'chp_beat_class',\n",
       "       'beat_number', 'primary_road', 'secondary_road', 'distance',\n",
       "       'direction', 'intersection', 'weather_1', 'weather_2',\n",
       "       'state_highway_indicator', 'caltrans_county', 'caltrans_district',\n",
       "       'state_route', 'route_suffix', 'postmile_prefix', 'postmile',\n",
       "       'location_type', 'ramp_intersection', 'side_of_highway', 'tow_away',\n",
       "       'collision_severity', 'killed_victims', 'injured_victims',\n",
       "       'party_count', 'primary_collision_factor', 'pcf_violation_code',\n",
       "       'pcf_violation_category', 'pcf_violation', 'pcf_violation_subsection',\n",
       "       'hit_and_run', 'type_of_collision', 'motor_vehicle_involved_with',\n",
       "       'pedestrian_action', 'road_surface', 'road_condition_1',\n",
       "       'road_condition_2', 'lighting', 'control_device', 'chp_road_type',\n",
       "       'pedestrian_collision', 'bicycle_collision', 'motorcycle_collision',\n",
       "       'truck_collision', 'not_private_property', 'alcohol_involved',\n",
       "       'statewide_vehicle_type_at_fault', 'chp_vehicle_type_at_fault',\n",
       "       'severe_injury_count', 'other_visible_injury_count',\n",
       "       'complaint_of_pain_injury_count', 'pedestrian_killed_count',\n",
       "       'pedestrian_injured_count', 'bicyclist_killed_count',\n",
       "       'bicyclist_injured_count', 'motorcyclist_killed_count',\n",
       "       'motorcyclist_injured_count', 'primary_ramp', 'secondary_ramp',\n",
       "       'latitude', 'longitude', 'collision_date', 'collision_time',\n",
       "       'process_date'],\n",
       "      dtype='object')"
      ]
     },
     "metadata": {},
     "execution_count": 120
    }
   ],
   "metadata": {}
  },
  {
   "cell_type": "markdown",
   "source": [
    "##### How many accidents with geographical location? (x,y coordinates)"
   ],
   "metadata": {}
  },
  {
   "cell_type": "code",
   "execution_count": 125,
   "source": [
    "query(\"SELECT * FROM collisions WHERE 'latittude' IS NOT NULL AND 'longtitude' IS NOT NULL\")"
   ],
   "outputs": [],
   "metadata": {}
  },
  {
   "cell_type": "markdown",
   "source": [
    "#### Explore parties table"
   ],
   "metadata": {}
  },
  {
   "cell_type": "code",
   "execution_count": null,
   "source": [
    "# show all columns in parties tabel\n",
    "query(\"SELECT * FROM parties LIMIT 5\").columns"
   ],
   "outputs": [],
   "metadata": {}
  },
  {
   "cell_type": "code",
   "execution_count": 117,
   "source": [
    "# show all columns in collision tabel\n",
    "query(\"SELECT * FROM victims LIMIT 5\").columns"
   ],
   "outputs": [
    {
     "output_type": "execute_result",
     "data": {
      "text/plain": [
       "Index(['id', 'case_id', 'party_number', 'victim_role', 'victim_sex',\n",
       "       'victim_age', 'victim_degree_of_injury', 'victim_seating_position',\n",
       "       'victim_safety_equipment_1', 'victim_safety_equipment_2',\n",
       "       'victim_ejected'],\n",
       "      dtype='object')"
      ]
     },
     "metadata": {},
     "execution_count": 117
    }
   ],
   "metadata": {}
  },
  {
   "cell_type": "code",
   "execution_count": 110,
   "source": [
    "df_collision.shape"
   ],
   "outputs": [
    {
     "output_type": "execute_result",
     "data": {
      "text/plain": [
       "(5, 74)"
      ]
     },
     "metadata": {},
     "execution_count": 110
    }
   ],
   "metadata": {}
  },
  {
   "cell_type": "code",
   "execution_count": null,
   "source": [],
   "outputs": [],
   "metadata": {}
  },
  {
   "cell_type": "code",
   "execution_count": 80,
   "source": [
    "# create engine and create connection to it\n",
    "engine = create_engine('sqlite:///switrs.sqlite')\n",
    "with engine.connect() as con:\n",
    "    rs = con.execute(\"SELECT DISTINCT vehicle_make FROM parties\")\n",
    "    df = pd.DataFrame(rs.fetchall())\n",
    "    df.columns = rs.keys()\n",
    "    rs2 = con.execute(\"SELECT party_race FROM parties WHERE vehicle_make ='FORD'\")\n",
    "    df2= pd.DataFrame(rs2.fetchall())\n",
    "    df2.columns =rs2.keys()\n",
    "    rs3 = con.execute(\"SELECT * FROM parties LIMIT 5\")\n",
    "    df3= pd.DataFrame(rs3.fetchall())\n",
    "    df3.columns =rs3.keys()\n",
    "    "
   ],
   "outputs": [],
   "metadata": {}
  },
  {
   "cell_type": "code",
   "execution_count": null,
   "source": [
    "number_drunk_ford = "
   ],
   "outputs": [],
   "metadata": {}
  },
  {
   "cell_type": "code",
   "execution_count": null,
   "source": [],
   "outputs": [],
   "metadata": {}
  },
  {
   "cell_type": "code",
   "execution_count": 81,
   "source": [
    "#explore the columns in party table\n",
    "df3.columns"
   ],
   "outputs": [
    {
     "output_type": "execute_result",
     "data": {
      "text/plain": [
       "Index(['id', 'case_id', 'party_number', 'party_type', 'at_fault', 'party_sex',\n",
       "       'party_age', 'party_sobriety', 'party_drug_physical',\n",
       "       'direction_of_travel', 'party_safety_equipment_1',\n",
       "       'party_safety_equipment_2', 'financial_responsibility',\n",
       "       'hazardous_materials', 'cellphone_use', 'school_bus_related',\n",
       "       'oaf_violation_code', 'oaf_violation_category', 'oaf_violation_section',\n",
       "       'oaf_violation_suffix', 'other_associate_factor_1',\n",
       "       'other_associate_factor_2', 'party_number_killed',\n",
       "       'party_number_injured', 'movement_preceding_collision', 'vehicle_year',\n",
       "       'vehicle_make', 'statewide_vehicle_type', 'chp_vehicle_type_towing',\n",
       "       'chp_vehicle_type_towed', 'party_race'],\n",
       "      dtype='object')"
      ]
     },
     "metadata": {},
     "execution_count": 81
    }
   ],
   "metadata": {}
  },
  {
   "cell_type": "code",
   "execution_count": null,
   "source": [
    "df.head("
   ],
   "outputs": [],
   "metadata": {}
  },
  {
   "cell_type": "code",
   "execution_count": 82,
   "source": [
    "with engine.connect() as con:\n",
    "    rs4 = con.execute(\"SELECT party_type FROM parties WHERE at_fault IS NOT NULL\")\n",
    "    df4= pd.DataFrame(rs4.fetchall())\n",
    "    df4.columns =rs4.keys()\n"
   ],
   "outputs": [],
   "metadata": {}
  },
  {
   "cell_type": "code",
   "execution_count": 83,
   "source": [
    "# visualize the distribution of parties \n",
    "df4['party_type'].value_counts().plot(kind='bar')"
   ],
   "outputs": [
    {
     "output_type": "execute_result",
     "data": {
      "text/plain": [
       "<AxesSubplot:>"
      ]
     },
     "metadata": {},
     "execution_count": 83
    },
    {
     "output_type": "display_data",
     "data": {
      "text/plain": [
       "<Figure size 432x288 with 1 Axes>"
      ],
      "image/png": "[encoded data removed]"
     },
     "metadata": {
      "needs_background": "light"
     }
    }
   ],
   "metadata": {}
  },
  {
   "cell_type": "code",
   "execution_count": 65,
   "source": [
    "df2['party_race'].value_counts().plot(kind='bar')"
   ],
   "outputs": [
    {
     "output_type": "execute_result",
     "data": {
      "text/plain": [
       "<AxesSubplot:>"
      ]
     },
     "metadata": {},
     "execution_count": 65
    },
    {
     "output_type": "display_data",
     "data": {
      "text/plain": [
       "<Figure size 432x288 with 1 Axes>"
      ],
      "image/png": "[encoded data removed]"
     },
     "metadata": {
      "needs_background": "light"
     }
    }
   ],
   "metadata": {}
  },
  {
   "cell_type": "code",
   "execution_count": 84,
   "source": [
    "con = engine.connect()\n",
    "rs = con.execute(\"SELECT * FROM case_ids\")\n",
    "df = pd.DataFrame(rs.fetchall())"
   ],
   "outputs": [],
   "metadata": {}
  },
  {
   "cell_type": "code",
   "execution_count": 85,
   "source": [
    "rs_2 = con.execute(\"SELECT * FROM parties \")"
   ],
   "outputs": [],
   "metadata": {}
  },
  {
   "cell_type": "code",
   "execution_count": 86,
   "source": [
    "table_names = engine.table_names()\n",
    "print(table_names)"
   ],
   "outputs": [
    {
     "output_type": "stream",
     "name": "stdout",
     "text": [
      "['case_ids', 'collisions', 'parties', 'victims']\n"
     ]
    },
    {
     "output_type": "stream",
     "name": "stderr",
     "text": [
      "<ipython-input-86-8d744d47b078>:1: SADeprecationWarning: The Engine.table_names() method is deprecated and will be removed in a future release.  Please refer to Inspector.get_table_names(). (deprecated since: 1.4)\n",
      "  table_names = engine.table_names()\n"
     ]
    }
   ],
   "metadata": {}
  },
  {
   "cell_type": "markdown",
   "source": [
    "#### Exploring victims table"
   ],
   "metadata": {}
  },
  {
   "cell_type": "code",
   "execution_count": null,
   "source": [
    "#### Explore Collision Table \n",
    "engine = create_engine('sqlite:///switrs.sqlite')\n",
    "with engine.connect() as con:\n",
    "    r_collision = con.execute(\"SELECT * FROM collisions LIMIT 5 \")\n",
    "    collision_df = pd.DataFrame(r_collision.fetchall())\n",
    "    collision_df.columns = r_collision.keys()\n",
    "collision_df.head()"
   ],
   "outputs": [],
   "metadata": {}
  }
 ],
 "metadata": {
  "interpreter": {
   "hash": "4b2a0a5712fbdad2100051becafd61823c4a4f9d8dc994138f944971fba3d31d"
  },
  "kernelspec": {
   "name": "python3",
   "display_name": "Python 3.9.6 64-bit ('mycapstone2': conda)"
  },
  "language_info": {
   "codemirror_mode": {
    "name": "ipython",
    "version": 3
   },
   "file_extension": ".py",
   "mimetype": "text/x-python",
   "name": "python",
   "nbconvert_exporter": "python",
   "pygments_lexer": "ipython3",
   "version": "3.9.6"
  }
 },
 "nbformat": 4,
 "nbformat_minor": 4
}